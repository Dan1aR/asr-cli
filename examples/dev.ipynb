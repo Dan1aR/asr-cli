{
 "cells": [
  {
   "cell_type": "markdown",
   "metadata": {},
   "source": [
    "# Давай попробуем всякие opensource-ные решения вкрутить"
   ]
  },
  {
   "cell_type": "code",
   "execution_count": 24,
   "metadata": {},
   "outputs": [],
   "source": [
    "import torch\n",
    "import torchaudio\n",
    "from transformers import Wav2Vec2ForCTC, Wav2Vec2Processor\n",
    "\n",
    "LANG_ID = \"ru\"\n",
    "MODEL_ID = \"jonatasgrosman/wav2vec2-large-xlsr-53-russian\"\n",
    "SAMPLES = 5\n",
    "\n",
    "processor = Wav2Vec2Processor.from_pretrained(\"resources/wav2vec2ctc_processor.pt\")\n",
    "model = Wav2Vec2ForCTC.from_pretrained(\"resources/wav2vec2ctc.pt\")\n"
   ]
  },
  {
   "cell_type": "code",
   "execution_count": 25,
   "metadata": {},
   "outputs": [],
   "source": [
    "# model.save_pretrained(\"resources/wav2vec2ctc.pt\")\n",
    "# processor.save_pretrained(\"resources/wav2vec2ctc_processor.pt\")"
   ]
  },
  {
   "cell_type": "code",
   "execution_count": 26,
   "metadata": {},
   "outputs": [
    {
     "name": "stdout",
     "output_type": "stream",
     "text": [
      "torch.Size([1, 101376]) 32000\n",
      "torch.Size([50688]) 16000\n"
     ]
    }
   ],
   "source": [
    "example_path = \"resources/example.wav\"\n",
    "samples, sr = torchaudio.load(example_path)\n",
    "print(samples.shape, sr)\n",
    "# Downsampling to 16k\n",
    "transform = torchaudio.transforms.Resample(\n",
    "    orig_freq=sr, new_freq=16_000\n",
    ")\n",
    "samples = transform(samples).squeeze(0)\n",
    "sr = 16_000\n",
    "print(samples.shape, sr)\n"
   ]
  },
  {
   "cell_type": "code",
   "execution_count": 27,
   "metadata": {},
   "outputs": [
    {
     "name": "stdout",
     "output_type": "stream",
     "text": [
      "torch.Size([1, 50688])\n"
     ]
    },
    {
     "data": {
      "text/plain": [
       "['а и правда никакой']"
      ]
     },
     "execution_count": 27,
     "metadata": {},
     "output_type": "execute_result"
    }
   ],
   "source": [
    "inputs = processor(samples, sampling_rate=sr, return_tensors=\"pt\", padding=True)\n",
    "print(inputs[\"input_values\"].shape)\n",
    "\n",
    "with torch.no_grad():\n",
    "    logits = model(inputs.input_values, attention_mask=inputs.attention_mask).logits\n",
    "\n",
    "predicted_ids = torch.argmax(logits, dim=-1)\n",
    "predicted_sentences = processor.batch_decode(predicted_ids)\n",
    "predicted_sentences"
   ]
  },
  {
   "cell_type": "code",
   "execution_count": 28,
   "metadata": {},
   "outputs": [],
   "source": [
    "# нихуя себе, работает)"
   ]
  },
  {
   "cell_type": "code",
   "execution_count": null,
   "metadata": {},
   "outputs": [],
   "source": []
  },
  {
   "cell_type": "code",
   "execution_count": null,
   "metadata": {},
   "outputs": [],
   "source": []
  },
  {
   "cell_type": "code",
   "execution_count": null,
   "metadata": {},
   "outputs": [],
   "source": []
  }
 ],
 "metadata": {
  "kernelspec": {
   "display_name": ".venv",
   "language": "python",
   "name": "python3"
  },
  "language_info": {
   "codemirror_mode": {
    "name": "ipython",
    "version": 3
   },
   "file_extension": ".py",
   "mimetype": "text/x-python",
   "name": "python",
   "nbconvert_exporter": "python",
   "pygments_lexer": "ipython3",
   "version": "3.11.4"
  }
 },
 "nbformat": 4,
 "nbformat_minor": 2
}
